{
 "cells": [
  {
   "cell_type": "markdown",
   "id": "cad248cc-309a-4fc5-bc2f-1a49621cd026",
   "metadata": {
    "tags": []
   },
   "source": [
    "# CFPS JupyterHub\n",
    "\n",
    "Shandong University (Weihai)\n",
    "\n",
    "山东大学（威海）数据科学与人工智能实验班 （2020级）\n",
    "\n",
    "2021 年秋 - 2022 年春 前端开发和数据库课程 大作业 第三部分\n",
    "\n",
    "选题：JupyterHub\n",
    "\n",
    "欢迎使用！\n",
    "\n",
    "GitHub: https://github.com/lie-flat/cfps-jupyterhub"
   ]
  },
  {
   "cell_type": "markdown",
   "id": "af1581f5-b667-459d-9fc4-51a8f124e944",
   "metadata": {
    "tags": []
   },
   "source": [
    "## 使用教程"
   ]
  },
  {
   "cell_type": "markdown",
   "id": "a3115f87-7e6b-4b7e-9ff4-f01f0b575f9a",
   "metadata": {},
   "source": [
    "在使用之前，我们推荐您先浏览以下笔记本：\n",
    "\n",
    "- [自动加载的内容](自动加载的内容.ipynb) 讲解了我们的笔记本在启动时自动加载了哪些内容\n",
    "- [数据库连接教程](数据库连接教程.ipynb) 讲解了如何连接数据库调取数据"
   ]
  },
  {
   "cell_type": "markdown",
   "id": "59296968-0fcf-4036-80d0-11d1cd40a051",
   "metadata": {},
   "source": [
    "您的家目录下的的数据会被保存，且其它用户无法查看。\n",
    "\n",
    "`team-shared` 目录由整个团队共享，所有用户均可读写\n",
    "\n",
    "`data` 目录也是全局共享的，但是它是只读的，这里面存放了数据文件和一些运行这个系统所必须的文件。"
   ]
  },
  {
   "cell_type": "markdown",
   "id": "754b6d81-3a9b-4897-9bde-beecbbb36407",
   "metadata": {},
   "source": [
    "## 20 种数据可视化"
   ]
  },
  {
   "cell_type": "markdown",
   "id": "f7476e44-9d2d-4954-b448-fe664033c4fd",
   "metadata": {},
   "source": [
    "我们在 `20种数据可视化` 文件夹里创建了 20 多种数据可视化，每一种一个笔记本，供您参考"
   ]
  },
  {
   "cell_type": "markdown",
   "id": "07530532-169d-4e2d-8c76-ef325094627e",
   "metadata": {},
   "source": [
    "## 值得注意的问题"
   ]
  },
  {
   "cell_type": "markdown",
   "id": "276694ee-3280-4b53-b30a-d83f0b26f074",
   "metadata": {},
   "source": [
    "### 打开别人编辑过的文件，图表不显示怎么办？\n",
    "\n",
    "因为 JupyterLab 的安全策略，JupyterLab 会把陌生的文件标记为不受信任的，不会自动去执行里面的 JavaScript 脚本，这有时会导致您在打开其他团队成员编辑过的笔记本时，其中的 echarts 图表无法显示，解决方法如下：\n",
    "\n",
    "按下 <kbd>Ctrl</kbd> + <kbd>Shift</kbd> + <kbd>C</kbd> , 在弹出的命令面板上输入 `Trust`, 选择第一项，信任当前的笔记本。"
   ]
  },
  {
   "cell_type": "markdown",
   "id": "ddbdf6b9-18a9-44aa-afac-1540a3a7a1ae",
   "metadata": {},
   "source": [
    "### 我想要 Root 权限\n",
    "\n",
    "不给"
   ]
  },
  {
   "cell_type": "markdown",
   "id": "b3a03e69-2be4-403c-a333-eaad0c09daf7",
   "metadata": {},
   "source": [
    "### 我想黑掉你的主机\n",
    "\n",
    "想得美，你可以试试，我做了完善的安全措施"
   ]
  }
 ],
 "metadata": {
  "kernelspec": {
   "display_name": "Python 3 (ipykernel)",
   "language": "python",
   "name": "python3"
  },
  "language_info": {
   "codemirror_mode": {
    "name": "ipython",
    "version": 3
   },
   "file_extension": ".py",
   "mimetype": "text/x-python",
   "name": "python",
   "nbconvert_exporter": "python",
   "pygments_lexer": "ipython3",
   "version": "3.10.1"
  }
 },
 "nbformat": 4,
 "nbformat_minor": 5
}
